{
 "cells": [
  {
   "cell_type": "code",
   "execution_count": 45,
   "metadata": {},
   "outputs": [],
   "source": [
    "import os \n",
    "import numpy as np\n",
    "import cv2 as cv\n",
    "import matplotlib.pyplot as plt\n",
    "from keras.preprocessing.image import ImageDataGenerator\n",
    "from keras.models import Sequential, Model\n",
    "from keras.layers import Conv2D, MaxPooling2D, Flatten, Dense, Dropout\n",
    "from tensorflow.keras import optimizers\n",
    "from keras.callbacks import ModelCheckpoint, LearningRateScheduler, EarlyStopping, TensorBoard\n",
    "from sklearn.metrics import confusion_matrix, accuracy_score, classification_report, plot_confusion_matrix\n",
    "from keras.models import load_model\n",
    "from keras.preprocessing import image\n"
   ]
  },
  {
   "cell_type": "code",
   "execution_count": 10,
   "metadata": {},
   "outputs": [],
   "source": [
    "image_dir = 'D:/Work/Retinopathy/eye dataset/rim/'"
   ]
  },
  {
   "cell_type": "code",
   "execution_count": null,
   "metadata": {},
   "outputs": [],
   "source": []
  },
  {
   "cell_type": "code",
   "execution_count": 11,
   "metadata": {},
   "outputs": [
    {
     "name": "stdout",
     "output_type": "stream",
     "text": [
      "1700\n",
      "1714\n"
     ]
    }
   ],
   "source": [
    "glaucoma_dir = image_dir + 'glaucoma/'\n",
    "normal_dir = image_dir + 'normal/'\n",
    "print(len(os.listdir(glaucoma_dir)))\n",
    "print(len(os.listdir(normal_dir))) "
   ]
  },
  {
   "cell_type": "code",
   "execution_count": 44,
   "metadata": {},
   "outputs": [
    {
     "data": {
      "text/plain": [
       "['glaucoma', 'normal']"
      ]
     },
     "execution_count": 44,
     "metadata": {},
     "output_type": "execute_result"
    }
   ],
   "source": [
    "os.listdir(image_dir)\n"
   ]
  },
  {
   "cell_type": "code",
   "execution_count": 13,
   "metadata": {},
   "outputs": [
    {
     "name": "stdout",
     "output_type": "stream",
     "text": [
      "training data :\n",
      "Found 2732 images belonging to 2 classes.\n",
      "\n",
      "validation data :\n",
      "Found 682 images belonging to 2 classes.\n"
     ]
    }
   ],
   "source": [
    "# generating training data\n",
    "print(\"training data :\")\n",
    "train_datagen= ImageDataGenerator(rescale=1/255, zoom_range=0.3, rotation_range=50, width_shift_range= 0.2, height_shift_range=0.2, shear_range=0.2, \n",
    "                                   horizontal_flip=True, fill_mode='nearest', validation_split=0.2)\n",
    "\n",
    "train_data = train_datagen.flow_from_directory(image_dir, \n",
    "                                              target_size= (256, 256),\n",
    "                                              class_mode= \"binary\",\n",
    "                                              batch_size=32,\n",
    "                                              subset='training'\n",
    "                                              )\n",
    "\n",
    "# genarating validation data\n",
    "print(\"\\nvalidation data :\")\n",
    "val_datagen= ImageDataGenerator(rescale= 1/255)\n",
    "\n",
    "val_data= train_datagen.flow_from_directory(image_dir, \n",
    "                                              target_size= (256, 256),\n",
    "                                              class_mode= \"binary\",\n",
    "                                              batch_size=32,\n",
    "                                              shuffle= False,\n",
    "                                              subset='validation'\n",
    "                                              )"
   ]
  },
  {
   "cell_type": "code",
   "execution_count": 14,
   "metadata": {},
   "outputs": [
    {
     "name": "stdout",
     "output_type": "stream",
     "text": [
      "Model: \"sequential\"\n",
      "_________________________________________________________________\n",
      "Layer (type)                 Output Shape              Param #   \n",
      "=================================================================\n",
      "conv2d (Conv2D)              (None, 254, 254, 16)      448       \n",
      "_________________________________________________________________\n",
      "max_pooling2d (MaxPooling2D) (None, 127, 127, 16)      0         \n",
      "_________________________________________________________________\n",
      "conv2d_1 (Conv2D)            (None, 125, 125, 32)      4640      \n",
      "_________________________________________________________________\n",
      "max_pooling2d_1 (MaxPooling2 (None, 62, 62, 32)        0         \n",
      "_________________________________________________________________\n",
      "conv2d_2 (Conv2D)            (None, 60, 60, 64)        18496     \n",
      "_________________________________________________________________\n",
      "max_pooling2d_2 (MaxPooling2 (None, 30, 30, 64)        0         \n",
      "_________________________________________________________________\n",
      "conv2d_3 (Conv2D)            (None, 28, 28, 128)       73856     \n",
      "_________________________________________________________________\n",
      "max_pooling2d_3 (MaxPooling2 (None, 14, 14, 128)       0         \n",
      "_________________________________________________________________\n",
      "flatten (Flatten)            (None, 25088)             0         \n",
      "_________________________________________________________________\n",
      "dense (Dense)                (None, 512)               12845568  \n",
      "_________________________________________________________________\n",
      "dropout (Dropout)            (None, 512)               0         \n",
      "_________________________________________________________________\n",
      "dense_1 (Dense)              (None, 1)                 513       \n",
      "=================================================================\n",
      "Total params: 12,943,521\n",
      "Trainable params: 12,943,521\n",
      "Non-trainable params: 0\n",
      "_________________________________________________________________\n"
     ]
    }
   ],
   "source": [
    "model= Sequential()\n",
    "\n",
    "model.add(Conv2D(filters= 16, kernel_size=(3,3), activation=\"relu\", input_shape=(256,256, 3)))\n",
    "model.add(MaxPooling2D(pool_size=(2,2)))\n",
    "\n",
    "model.add(Conv2D(filters= 32, kernel_size=(3,3), activation=\"relu\"))\n",
    "model.add(MaxPooling2D(pool_size=(2,2)))\n",
    "\n",
    "model.add(Conv2D(filters= 64, kernel_size=(3,3), activation=\"relu\"))\n",
    "model.add(MaxPooling2D(pool_size=(2,2)))\n",
    "\n",
    "model.add(Conv2D(filters= 128, kernel_size=(3,3), activation=\"relu\"))\n",
    "model.add(MaxPooling2D(pool_size=(2,2)))\n",
    "\n",
    "model.add(Flatten())\n",
    "model.add(Dense(units= 512, activation='relu'))\n",
    "model.add(Dropout(0.1))\n",
    "\n",
    "#model.add(Dense(units= 256, activation='relu'))\n",
    "#model.add(Dropout(0.1))\n",
    "\n",
    "model.add(Dense(units=1, activation=\"sigmoid\"))\n",
    "\n",
    "model.summary()"
   ]
  },
  {
   "cell_type": "code",
   "execution_count": 15,
   "metadata": {},
   "outputs": [
    {
     "name": "stdout",
     "output_type": "stream",
     "text": [
      "Epoch 1/30\n",
      "85/85 [==============================] - 143s 2s/step - loss: 0.6337 - accuracy: 0.6348 - val_loss: 0.6110 - val_accuracy: 0.6384\n",
      "Epoch 2/30\n",
      "85/85 [==============================] - 77s 896ms/step - loss: 0.4872 - accuracy: 0.7526 - val_loss: 0.4962 - val_accuracy: 0.7307\n",
      "Epoch 3/30\n",
      "85/85 [==============================] - 82s 961ms/step - loss: 0.4257 - accuracy: 0.7922 - val_loss: 0.4398 - val_accuracy: 0.7783\n",
      "Epoch 4/30\n",
      "85/85 [==============================] - 77s 899ms/step - loss: 0.3847 - accuracy: 0.8167 - val_loss: 0.4028 - val_accuracy: 0.8170\n",
      "Epoch 5/30\n",
      "85/85 [==============================] - 73s 859ms/step - loss: 0.3700 - accuracy: 0.8274 - val_loss: 0.4492 - val_accuracy: 0.7619\n",
      "Epoch 6/30\n",
      "85/85 [==============================] - 73s 853ms/step - loss: 0.3403 - accuracy: 0.8456 - val_loss: 0.4542 - val_accuracy: 0.7560\n",
      "Epoch 7/30\n",
      "85/85 [==============================] - 73s 849ms/step - loss: 0.3288 - accuracy: 0.8530 - val_loss: 0.3549 - val_accuracy: 0.8378\n",
      "Epoch 8/30\n",
      "85/85 [==============================] - 73s 847ms/step - loss: 0.3045 - accuracy: 0.8544 - val_loss: 0.3753 - val_accuracy: 0.8259\n",
      "Epoch 9/30\n",
      "85/85 [==============================] - 72s 845ms/step - loss: 0.2990 - accuracy: 0.8700 - val_loss: 0.3278 - val_accuracy: 0.8482\n",
      "Epoch 10/30\n",
      "85/85 [==============================] - 72s 845ms/step - loss: 0.2936 - accuracy: 0.8700 - val_loss: 0.4080 - val_accuracy: 0.7827\n",
      "Epoch 11/30\n",
      "85/85 [==============================] - 72s 841ms/step - loss: 0.2765 - accuracy: 0.8756 - val_loss: 0.3130 - val_accuracy: 0.8720\n",
      "Epoch 12/30\n",
      "85/85 [==============================] - 73s 857ms/step - loss: 0.2790 - accuracy: 0.8744 - val_loss: 0.3021 - val_accuracy: 0.8690\n",
      "Epoch 13/30\n",
      "85/85 [==============================] - 73s 849ms/step - loss: 0.2710 - accuracy: 0.8778 - val_loss: 0.2837 - val_accuracy: 0.8854\n",
      "Epoch 14/30\n",
      "85/85 [==============================] - 73s 847ms/step - loss: 0.2578 - accuracy: 0.8904 - val_loss: 0.3091 - val_accuracy: 0.8676\n",
      "Epoch 15/30\n",
      "85/85 [==============================] - 72s 840ms/step - loss: 0.2601 - accuracy: 0.8815 - val_loss: 0.2867 - val_accuracy: 0.8824\n",
      "Epoch 16/30\n",
      "85/85 [==============================] - 72s 845ms/step - loss: 0.2477 - accuracy: 0.8907 - val_loss: 0.3000 - val_accuracy: 0.8720\n",
      "Epoch 17/30\n",
      "85/85 [==============================] - 72s 837ms/step - loss: 0.2605 - accuracy: 0.8896 - val_loss: 0.2942 - val_accuracy: 0.8631\n",
      "Epoch 18/30\n",
      "85/85 [==============================] - 73s 849ms/step - loss: 0.2422 - accuracy: 0.8889 - val_loss: 0.2920 - val_accuracy: 0.8586\n",
      "Epoch 19/30\n",
      "85/85 [==============================] - 72s 846ms/step - loss: 0.2379 - accuracy: 0.8896 - val_loss: 0.2621 - val_accuracy: 0.8854\n",
      "Epoch 20/30\n",
      "85/85 [==============================] - 72s 845ms/step - loss: 0.2399 - accuracy: 0.8933 - val_loss: 0.2687 - val_accuracy: 0.8869\n",
      "Epoch 21/30\n",
      "85/85 [==============================] - 74s 863ms/step - loss: 0.2323 - accuracy: 0.8985 - val_loss: 0.2688 - val_accuracy: 0.8690\n",
      "Epoch 22/30\n",
      "85/85 [==============================] - 72s 843ms/step - loss: 0.2282 - accuracy: 0.8967 - val_loss: 0.2652 - val_accuracy: 0.8869\n",
      "Epoch 23/30\n",
      "85/85 [==============================] - 72s 839ms/step - loss: 0.2234 - accuracy: 0.8978 - val_loss: 0.2320 - val_accuracy: 0.9092\n",
      "Epoch 24/30\n",
      "85/85 [==============================] - 72s 837ms/step - loss: 0.2270 - accuracy: 0.8996 - val_loss: 0.2876 - val_accuracy: 0.8735\n",
      "Epoch 25/30\n",
      "85/85 [==============================] - 76s 890ms/step - loss: 0.2225 - accuracy: 0.9026 - val_loss: 0.2737 - val_accuracy: 0.8839\n",
      "Epoch 26/30\n",
      "85/85 [==============================] - 72s 845ms/step - loss: 0.2153 - accuracy: 0.9041 - val_loss: 0.2375 - val_accuracy: 0.8914\n",
      "Epoch 27/30\n",
      "85/85 [==============================] - 72s 845ms/step - loss: 0.2303 - accuracy: 0.9015 - val_loss: 0.2500 - val_accuracy: 0.8854\n",
      "Epoch 28/30\n",
      "85/85 [==============================] - 73s 848ms/step - loss: 0.2168 - accuracy: 0.8981 - val_loss: 0.2426 - val_accuracy: 0.8943\n",
      "Epoch 29/30\n",
      "85/85 [==============================] - 73s 853ms/step - loss: 0.2126 - accuracy: 0.9026 - val_loss: 0.2636 - val_accuracy: 0.8839\n",
      "Epoch 30/30\n",
      "85/85 [==============================] - 73s 850ms/step - loss: 0.2147 - accuracy: 0.9015 - val_loss: 0.2515 - val_accuracy: 0.8943\n"
     ]
    }
   ],
   "source": [
    "model.compile(loss= \"binary_crossentropy\", optimizer=optimizers.RMSprop(learning_rate=1e-4), metrics=[\"accuracy\"])\n",
    "\n",
    "callbacks = [\n",
    "        EarlyStopping(patience=5, monitor='val_loss',mode = \"min\"),\n",
    "        TensorBoard(log_dir='logs')]\n",
    "\n",
    "model_checkpoint = ModelCheckpoint('glaucoma_checkpoint.hdf5',\n",
    "                                    monitor = 'val_accuracy',\n",
    "                                    verbose = 1,\n",
    "                                    save_best_only= True,\n",
    "                                    mode= 'max')\n",
    "\n",
    "\n",
    "history= model.fit(train_data,\n",
    "                    steps_per_epoch= train_data.samples//train_data.batch_size,\n",
    "                    validation_data= val_data,\n",
    "                    validation_steps= val_data.samples//val_data.batch_size,\n",
    "                    epochs= 30,\n",
    "                    verbose=1,\n",
    "                    #callbacks = callbacks \n",
    "                   )"
   ]
  },
  {
   "cell_type": "code",
   "execution_count": 16,
   "metadata": {},
   "outputs": [
    {
     "data": {
      "image/png": "[encoded data removed]",
      "text/plain": [
       "<Figure size 432x288 with 1 Axes>"
      ]
     },
     "metadata": {
      "needs_background": "light"
     },
     "output_type": "display_data"
    },
    {
     "data": {
      "image/png": "[encoded data removed]",
      "text/plain": [
       "<Figure size 432x288 with 1 Axes>"
      ]
     },
     "metadata": {
      "needs_background": "light"
     },
     "output_type": "display_data"
    }
   ],
   "source": [
    "epochs= range(1, len(history.history[\"accuracy\"])+1)\n",
    "\n",
    "plt.plot(epochs, history.history[\"accuracy\"], color=\"purple\")\n",
    "plt.plot(epochs, history.history[\"val_accuracy\"], color=\"red\")\n",
    "plt.xlabel(\"epochs\")\n",
    "plt.ylabel(\"accuracy\")\n",
    "plt.title(\"Accuracy plot\")\n",
    "plt.legend([\"train_acc\", \"val_acc\"])\n",
    "plt.show()\n",
    "\n",
    "plt.plot(epochs, history.history[\"loss\"], color=\"purple\")\n",
    "plt.plot(epochs, history.history[\"val_loss\"], color=\"red\")\n",
    "plt.xlabel(\"epochs\")\n",
    "plt.ylabel(\"loss\")\n",
    "plt.title(\"Loss plot\")\n",
    "plt.legend([\"train_loss\", \"val_loss\"])\n",
    "plt.show()"
   ]
  },
  {
   "cell_type": "code",
   "execution_count": 17,
   "metadata": {},
   "outputs": [
    {
     "name": "stdout",
     "output_type": "stream",
     "text": [
      "22/22 [==============================] - 15s 668ms/step - loss: 0.2405 - accuracy: 0.8930\n"
     ]
    },
    {
     "data": {
      "text/plain": [
       "[0.24045361578464508, 0.892961859703064]"
      ]
     },
     "execution_count": 17,
     "metadata": {},
     "output_type": "execute_result"
    }
   ],
   "source": [
    "model.evaluate(val_data,verbose = 1)"
   ]
  },
  {
   "cell_type": "code",
   "execution_count": 18,
   "metadata": {},
   "outputs": [
    {
     "name": "stdout",
     "output_type": "stream",
     "text": [
      "WARNING:tensorflow:6 out of the last 6 calls to <function Model.make_predict_function.<locals>.predict_function at 0x000001EFE176BE50> triggered tf.function retracing. Tracing is expensive and the excessive number of tracings could be due to (1) creating @tf.function repeatedly in a loop, (2) passing tensors with different shapes, (3) passing Python objects instead of tensors. For (1), please define your @tf.function outside of the loop. For (2), @tf.function has experimental_relax_shapes=True option that relaxes argument shapes that can avoid unnecessary retracing. For (3), please refer to https://www.tensorflow.org/guide/function#controlling_retracing and https://www.tensorflow.org/api_docs/python/tf/function for  more details.\n",
      "22/22 [==============================] - 14s 641ms/step\n"
     ]
    }
   ],
   "source": [
    "prediction= model.predict(val_data, steps=np.ceil(val_data.samples/val_data.batch_size), verbose=1)\n",
    "prediction= (prediction > 0.5)\n",
    "#prediction"
   ]
  },
  {
   "cell_type": "code",
   "execution_count": 19,
   "metadata": {},
   "outputs": [
    {
     "name": "stdout",
     "output_type": "stream",
     "text": [
      "0.906158357771261\n",
      "              precision    recall  f1-score   support\n",
      "\n",
      "           0       0.93      0.87      0.90       340\n",
      "           1       0.88      0.94      0.91       342\n",
      "\n",
      "    accuracy                           0.91       682\n",
      "   macro avg       0.91      0.91      0.91       682\n",
      "weighted avg       0.91      0.91      0.91       682\n",
      "\n"
     ]
    }
   ],
   "source": [
    "cm= confusion_matrix(val_data.classes, prediction)\n",
    "#plot_confusion_matrix(cm, figsize=(5,5))\n",
    "\n",
    "print(accuracy_score(val_data.classes, prediction))\n",
    "print(classification_report(val_data.classes, prediction))"
   ]
  },
  {
   "cell_type": "code",
   "execution_count": 29,
   "metadata": {},
   "outputs": [],
   "source": [
    "model.save('rim_all.h5')"
   ]
  },
  {
   "cell_type": "code",
   "execution_count": 49,
   "metadata": {},
   "outputs": [],
   "source": [
    "\n",
    "def test(image_path):\n",
    "    test_image = image.load_img(image_path, target_size = (256,256))\n",
    "    test_image = image.img_to_array(test_image)/255\n",
    "    test_image = np.expand_dims(test_image, axis = 0)\n",
    "    result = model.predict(test_image)\n",
    "    print(result[0])\n",
    "    \n",
    "    if result [0][0] < 0.5:\n",
    "        print(\"Glaucoma\")\n",
    "    else:\n",
    "        print(\"Not Glaucoma\")"
   ]
  },
  {
   "cell_type": "code",
   "execution_count": 50,
   "metadata": {},
   "outputs": [
    {
     "name": "stdout",
     "output_type": "stream",
     "text": [
      "[0.0003662]\n",
      "Glaucoma\n"
     ]
    }
   ],
   "source": [
    "image_path = 'images/glaucoma/r1_im069.png'\n",
    "test(image_path)"
   ]
  },
  {
   "cell_type": "code",
   "execution_count": 51,
   "metadata": {},
   "outputs": [
    {
     "name": "stdout",
     "output_type": "stream",
     "text": [
      "[0.59751487]\n",
      "Not Glaucoma\n"
     ]
    }
   ],
   "source": [
    "image_path = 'images/normal/r1_im026.png'\n",
    "test(image_path)"
   ]
  },
  {
   "cell_type": "code",
   "execution_count": null,
   "metadata": {},
   "outputs": [],
   "source": []
  }
 ],
 "metadata": {
  "interpreter": {
   "hash": "fd5a7c6f3e7607a2826e319189819064386b6b25f7120970a43ffc20286d0f5d"
  },
  "kernelspec": {
   "display_name": "Python 3.8.5 ('tensorflow')",
   "language": "python",
   "name": "python3"
  },
  "language_info": {
   "codemirror_mode": {
    "name": "ipython",
    "version": 3
   },
   "file_extension": ".py",
   "mimetype": "text/x-python",
   "name": "python",
   "nbconvert_exporter": "python",
   "pygments_lexer": "ipython3",
   "version": "3.8.5"
  },
  "orig_nbformat": 4
 },
 "nbformat": 4,
 "nbformat_minor": 2
}

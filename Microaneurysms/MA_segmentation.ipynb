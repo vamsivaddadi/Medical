{
 "cells": [
  {
   "cell_type": "code",
   "execution_count": 1,
   "metadata": {},
   "outputs": [],
   "source": [
    "import os\n",
    "import cv2 as cv\n",
    "from PIL import Image\n",
    "import numpy as np\n",
    "from tensorflow.keras.utils import normalize\n",
    "from tqdm import tqdm\n",
    "from Unet import *\n",
    "from keras.callbacks import ModelCheckpoint, LearningRateScheduler, EarlyStopping, TensorBoard\n",
    "import random\n",
    "import tensorflow as tf\n",
    "from sklearn.model_selection import train_test_split\n",
    "import matplotlib.pyplot as plt\n",
    "from tensorflow.keras.callbacks import ReduceLROnPlateau\n",
    "from keras.models import load_model\n"
   ]
  },
  {
   "cell_type": "code",
   "execution_count": 2,
   "metadata": {},
   "outputs": [],
   "source": [
    "#from numba import cuda\n",
    "#device = cuda.get_current_device()\n",
    "#device.reset()"
   ]
  },
  {
   "cell_type": "code",
   "execution_count": 2,
   "metadata": {},
   "outputs": [],
   "source": [
    "# E-Optha data\n",
    "root = 'D:/Work/Retinopathy/eye dataset/Diabetic Retinopathy/segmentation/e_ophtha/e_ophtha_MA/e_optha_MA/'\n",
    "#print(os.listdir(root))\n",
    "image_directory = os.path.join(root, 'agumented/MA/')\n",
    "mask_directory = os.path.join(root, 'agumented/MA_masks/')"
   ]
  },
  {
   "cell_type": "code",
   "execution_count": 2,
   "metadata": {},
   "outputs": [],
   "source": [
    "# IDRiD data\n",
    "root = 'D:/Work/Retinopathy/eye dataset/Diabetic Retinopathy/IDRiD/A.%20Segmentation/A. Segmentation/agumented/training/'\n",
    "#print(os.listdir(root))\n",
    "image_directory = os.path.join(root, 'Images/')\n",
    "mask_directory = os.path.join(root, 'gt/ma/')"
   ]
  },
  {
   "cell_type": "code",
   "execution_count": 4,
   "metadata": {},
   "outputs": [
    {
     "name": "stdout",
     "output_type": "stream",
     "text": [
      "['Hflip_IDRiD_01.png', 'Hflip_IDRiD_02.png', 'Hflip_IDRiD_03.png', 'Hflip_IDRiD_04.png', 'Hflip_IDRiD_05.png', 'Hflip_IDRiD_06.png', 'Hflip_IDRiD_07.png', 'Hflip_IDRiD_08.png', 'Hflip_IDRiD_09.png', 'Hflip_IDRiD_10.png', 'Hflip_IDRiD_11.png', 'Hflip_IDRiD_12.png', 'Hflip_IDRiD_13.png', 'Hflip_IDRiD_14.png', 'Hflip_IDRiD_15.png', 'Hflip_IDRiD_16.png', 'Hflip_IDRiD_17.png', 'Hflip_IDRiD_18.png', 'Hflip_IDRiD_19.png', 'Hflip_IDRiD_20.png']\n",
      "['Hflip_IDRiD_01_MA.png', 'Hflip_IDRiD_02_MA.png', 'Hflip_IDRiD_03_MA.png', 'Hflip_IDRiD_04_MA.png', 'Hflip_IDRiD_05_MA.png', 'Hflip_IDRiD_06_MA.png', 'Hflip_IDRiD_07_MA.png', 'Hflip_IDRiD_08_MA.png', 'Hflip_IDRiD_09_MA.png', 'Hflip_IDRiD_10_MA.png', 'Hflip_IDRiD_11_MA.png', 'Hflip_IDRiD_12_MA.png', 'Hflip_IDRiD_13_MA.png', 'Hflip_IDRiD_14_MA.png', 'Hflip_IDRiD_15_MA.png', 'Hflip_IDRiD_16_MA.png', 'Hflip_IDRiD_17_MA.png', 'Hflip_IDRiD_18_MA.png', 'Hflip_IDRiD_19_MA.png', 'Hflip_IDRiD_20_MA.png']\n"
     ]
    }
   ],
   "source": [
    "print(os.listdir(image_directory)[0:20])\n",
    "print(os.listdir(mask_directory)[0:20])"
   ]
  },
  {
   "cell_type": "code",
   "execution_count": 5,
   "metadata": {},
   "outputs": [
    {
     "name": "stdout",
     "output_type": "stream",
     "text": [
      "432\n",
      "432\n"
     ]
    }
   ],
   "source": [
    "print(len(os.listdir(image_directory)))\n",
    "print(len(os.listdir(mask_directory)))"
   ]
  },
  {
   "cell_type": "code",
   "execution_count": 6,
   "metadata": {},
   "outputs": [],
   "source": [
    "clahe = cv.createCLAHE(clipLimit = 4)\n",
    "### try clip 5 and 6"
   ]
  },
  {
   "cell_type": "code",
   "execution_count": 7,
   "metadata": {},
   "outputs": [],
   "source": [
    "image_dataset = []  \n",
    "mask_dataset = []  \n",
    "SIZE = 256\n"
   ]
  },
  {
   "cell_type": "code",
   "execution_count": 8,
   "metadata": {},
   "outputs": [
    {
     "name": "stderr",
     "output_type": "stream",
     "text": [
      "432it [01:05,  6.62it/s]\n"
     ]
    }
   ],
   "source": [
    "images = os.listdir(image_directory)\n",
    "\n",
    "for i, image_name in tqdm(enumerate(images)):    \n",
    "    if (image_name.split('.')[1] == 'png' or 'jpg' ):\n",
    "        image = cv.imread(image_directory+image_name)\n",
    "        b,g,r = cv.split(image)\n",
    "        gr_cl_im = clahe.apply(g)\n",
    "        gr_cl_im = Image.fromarray(gr_cl_im)\n",
    "        gr_cl_im = gr_cl_im.resize((SIZE, SIZE))\n",
    "        image_dataset.append(np.array(gr_cl_im))"
   ]
  },
  {
   "cell_type": "code",
   "execution_count": 9,
   "metadata": {},
   "outputs": [
    {
     "name": "stderr",
     "output_type": "stream",
     "text": [
      "432it [00:12, 33.64it/s]\n"
     ]
    }
   ],
   "source": [
    "masks = os.listdir(mask_directory)\n",
    "for i, image_name in tqdm(enumerate(masks)):\n",
    "    if (image_name.split('.')[1] == 'png' or 'TIF' or 'jpg'):\n",
    "        image = cv.imread(mask_directory+image_name, 0)\n",
    "        image = Image.fromarray(image)\n",
    "        image = image.resize((SIZE, SIZE))\n",
    "        mask_dataset.append(np.array(image))"
   ]
  },
  {
   "cell_type": "code",
   "execution_count": 10,
   "metadata": {},
   "outputs": [],
   "source": [
    "image_dataset = np.expand_dims(normalize(np.array(image_dataset), axis=1),3)\n",
    "\n",
    "mask_dataset = np.expand_dims((np.array(mask_dataset)),3) /255.\n"
   ]
  },
  {
   "cell_type": "code",
   "execution_count": 11,
   "metadata": {},
   "outputs": [
    {
     "name": "stdout",
     "output_type": "stream",
     "text": [
      "Used memory to store the float image dataset is:  216.0 MB\n",
      "Used memory to store the float mask dataset is:  216.0 MB\n"
     ]
    }
   ],
   "source": [
    "print(\"Used memory to store the float image dataset is: \", image_dataset.nbytes/(1024*1024), \"MB\")\n",
    "print(\"Used memory to store the float mask dataset is: \", mask_dataset.nbytes/(1024*1024), \"MB\")\n"
   ]
  },
  {
   "cell_type": "code",
   "execution_count": 12,
   "metadata": {},
   "outputs": [
    {
     "name": "stdout",
     "output_type": "stream",
     "text": [
      "(432, 256, 256, 1)\n",
      "(432, 256, 256, 1)\n"
     ]
    }
   ],
   "source": [
    "print(image_dataset.shape)\n",
    "print(mask_dataset.shape)"
   ]
  },
  {
   "cell_type": "code",
   "execution_count": 13,
   "metadata": {},
   "outputs": [
    {
     "name": "stdout",
     "output_type": "stream",
     "text": [
      "345\n",
      "87\n"
     ]
    }
   ],
   "source": [
    "image_train, image_test, mask_train, mask_test = train_test_split(image_dataset,\n",
    "                                                                  mask_dataset,\n",
    "                                                                  test_size = 0.20,\n",
    "                                                                  random_state = 10)\n",
    "\n",
    "print(len(image_train))\n",
    "print(len(image_test))"
   ]
  },
  {
   "cell_type": "code",
   "execution_count": 13,
   "metadata": {},
   "outputs": [
    {
     "name": "stdout",
     "output_type": "stream",
     "text": [
      "Model: \"model\"\n",
      "__________________________________________________________________________________________________\n",
      "Layer (type)                    Output Shape         Param #     Connected to                     \n",
      "==================================================================================================\n",
      "input_1 (InputLayer)            [(None, 256, 256, 1) 0                                            \n",
      "__________________________________________________________________________________________________\n",
      "conv2d (Conv2D)                 (None, 256, 256, 16) 160         input_1[0][0]                    \n",
      "__________________________________________________________________________________________________\n",
      "dropout (Dropout)               (None, 256, 256, 16) 0           conv2d[0][0]                     \n",
      "__________________________________________________________________________________________________\n",
      "conv2d_1 (Conv2D)               (None, 256, 256, 32) 4640        dropout[0][0]                    \n",
      "__________________________________________________________________________________________________\n",
      "max_pooling2d (MaxPooling2D)    (None, 128, 128, 32) 0           conv2d_1[0][0]                   \n",
      "__________________________________________________________________________________________________\n",
      "conv2d_2 (Conv2D)               (None, 128, 128, 32) 9248        max_pooling2d[0][0]              \n",
      "__________________________________________________________________________________________________\n",
      "dropout_1 (Dropout)             (None, 128, 128, 32) 0           conv2d_2[0][0]                   \n",
      "__________________________________________________________________________________________________\n",
      "conv2d_3 (Conv2D)               (None, 128, 128, 32) 9248        dropout_1[0][0]                  \n",
      "__________________________________________________________________________________________________\n",
      "max_pooling2d_1 (MaxPooling2D)  (None, 64, 64, 32)   0           conv2d_3[0][0]                   \n",
      "__________________________________________________________________________________________________\n",
      "conv2d_4 (Conv2D)               (None, 64, 64, 64)   18496       max_pooling2d_1[0][0]            \n",
      "__________________________________________________________________________________________________\n",
      "dropout_2 (Dropout)             (None, 64, 64, 64)   0           conv2d_4[0][0]                   \n",
      "__________________________________________________________________________________________________\n",
      "conv2d_5 (Conv2D)               (None, 64, 64, 64)   36928       dropout_2[0][0]                  \n",
      "__________________________________________________________________________________________________\n",
      "max_pooling2d_2 (MaxPooling2D)  (None, 32, 32, 64)   0           conv2d_5[0][0]                   \n",
      "__________________________________________________________________________________________________\n",
      "conv2d_6 (Conv2D)               (None, 32, 32, 128)  73856       max_pooling2d_2[0][0]            \n",
      "__________________________________________________________________________________________________\n",
      "dropout_3 (Dropout)             (None, 32, 32, 128)  0           conv2d_6[0][0]                   \n",
      "__________________________________________________________________________________________________\n",
      "conv2d_7 (Conv2D)               (None, 32, 32, 128)  147584      dropout_3[0][0]                  \n",
      "__________________________________________________________________________________________________\n",
      "max_pooling2d_3 (MaxPooling2D)  (None, 16, 16, 128)  0           conv2d_7[0][0]                   \n",
      "__________________________________________________________________________________________________\n",
      "conv2d_8 (Conv2D)               (None, 16, 16, 256)  295168      max_pooling2d_3[0][0]            \n",
      "__________________________________________________________________________________________________\n",
      "dropout_4 (Dropout)             (None, 16, 16, 256)  0           conv2d_8[0][0]                   \n",
      "__________________________________________________________________________________________________\n",
      "conv2d_9 (Conv2D)               (None, 16, 16, 256)  590080      dropout_4[0][0]                  \n",
      "__________________________________________________________________________________________________\n",
      "conv2d_transpose (Conv2DTranspo (None, 32, 32, 128)  131200      conv2d_9[0][0]                   \n",
      "__________________________________________________________________________________________________\n",
      "concatenate (Concatenate)       (None, 32, 32, 256)  0           conv2d_transpose[0][0]           \n",
      "                                                                 conv2d_7[0][0]                   \n",
      "__________________________________________________________________________________________________\n",
      "conv2d_10 (Conv2D)              (None, 32, 32, 128)  295040      concatenate[0][0]                \n",
      "__________________________________________________________________________________________________\n",
      "dropout_5 (Dropout)             (None, 32, 32, 128)  0           conv2d_10[0][0]                  \n",
      "__________________________________________________________________________________________________\n",
      "conv2d_11 (Conv2D)              (None, 32, 32, 128)  147584      dropout_5[0][0]                  \n",
      "__________________________________________________________________________________________________\n",
      "conv2d_transpose_1 (Conv2DTrans (None, 64, 64, 64)   32832       conv2d_11[0][0]                  \n",
      "__________________________________________________________________________________________________\n",
      "concatenate_1 (Concatenate)     (None, 64, 64, 128)  0           conv2d_transpose_1[0][0]         \n",
      "                                                                 conv2d_5[0][0]                   \n",
      "__________________________________________________________________________________________________\n",
      "conv2d_12 (Conv2D)              (None, 64, 64, 64)   73792       concatenate_1[0][0]              \n",
      "__________________________________________________________________________________________________\n",
      "dropout_6 (Dropout)             (None, 64, 64, 64)   0           conv2d_12[0][0]                  \n",
      "__________________________________________________________________________________________________\n",
      "conv2d_13 (Conv2D)              (None, 64, 64, 64)   36928       dropout_6[0][0]                  \n",
      "__________________________________________________________________________________________________\n",
      "conv2d_transpose_2 (Conv2DTrans (None, 128, 128, 32) 8224        conv2d_13[0][0]                  \n",
      "__________________________________________________________________________________________________\n",
      "concatenate_2 (Concatenate)     (None, 128, 128, 64) 0           conv2d_transpose_2[0][0]         \n",
      "                                                                 conv2d_3[0][0]                   \n",
      "__________________________________________________________________________________________________\n",
      "conv2d_14 (Conv2D)              (None, 128, 128, 32) 18464       concatenate_2[0][0]              \n",
      "__________________________________________________________________________________________________\n",
      "dropout_7 (Dropout)             (None, 128, 128, 32) 0           conv2d_14[0][0]                  \n",
      "__________________________________________________________________________________________________\n",
      "conv2d_15 (Conv2D)              (None, 128, 128, 32) 9248        dropout_7[0][0]                  \n",
      "__________________________________________________________________________________________________\n",
      "conv2d_transpose_3 (Conv2DTrans (None, 256, 256, 16) 2064        conv2d_15[0][0]                  \n",
      "__________________________________________________________________________________________________\n",
      "concatenate_3 (Concatenate)     (None, 256, 256, 48) 0           conv2d_transpose_3[0][0]         \n",
      "                                                                 conv2d_1[0][0]                   \n",
      "__________________________________________________________________________________________________\n",
      "conv2d_16 (Conv2D)              (None, 256, 256, 16) 6928        concatenate_3[0][0]              \n",
      "__________________________________________________________________________________________________\n",
      "dropout_8 (Dropout)             (None, 256, 256, 16) 0           conv2d_16[0][0]                  \n",
      "__________________________________________________________________________________________________\n",
      "conv2d_17 (Conv2D)              (None, 256, 256, 16) 2320        dropout_8[0][0]                  \n",
      "__________________________________________________________________________________________________\n",
      "conv2d_18 (Conv2D)              (None, 256, 256, 1)  17          conv2d_17[0][0]                  \n",
      "==================================================================================================\n",
      "Total params: 1,950,049\n",
      "Trainable params: 1,950,049\n",
      "Non-trainable params: 0\n",
      "__________________________________________________________________________________________________\n",
      "Model: \"model\"\n",
      "__________________________________________________________________________________________________\n",
      "Layer (type)                    Output Shape         Param #     Connected to                     \n",
      "==================================================================================================\n",
      "input_1 (InputLayer)            [(None, 256, 256, 1) 0                                            \n",
      "__________________________________________________________________________________________________\n",
      "conv2d (Conv2D)                 (None, 256, 256, 16) 160         input_1[0][0]                    \n",
      "__________________________________________________________________________________________________\n",
      "dropout (Dropout)               (None, 256, 256, 16) 0           conv2d[0][0]                     \n",
      "__________________________________________________________________________________________________\n",
      "conv2d_1 (Conv2D)               (None, 256, 256, 32) 4640        dropout[0][0]                    \n",
      "__________________________________________________________________________________________________\n",
      "max_pooling2d (MaxPooling2D)    (None, 128, 128, 32) 0           conv2d_1[0][0]                   \n",
      "__________________________________________________________________________________________________\n",
      "conv2d_2 (Conv2D)               (None, 128, 128, 32) 9248        max_pooling2d[0][0]              \n",
      "__________________________________________________________________________________________________\n",
      "dropout_1 (Dropout)             (None, 128, 128, 32) 0           conv2d_2[0][0]                   \n",
      "__________________________________________________________________________________________________\n",
      "conv2d_3 (Conv2D)               (None, 128, 128, 32) 9248        dropout_1[0][0]                  \n",
      "__________________________________________________________________________________________________\n",
      "max_pooling2d_1 (MaxPooling2D)  (None, 64, 64, 32)   0           conv2d_3[0][0]                   \n",
      "__________________________________________________________________________________________________\n",
      "conv2d_4 (Conv2D)               (None, 64, 64, 64)   18496       max_pooling2d_1[0][0]            \n",
      "__________________________________________________________________________________________________\n",
      "dropout_2 (Dropout)             (None, 64, 64, 64)   0           conv2d_4[0][0]                   \n",
      "__________________________________________________________________________________________________\n",
      "conv2d_5 (Conv2D)               (None, 64, 64, 64)   36928       dropout_2[0][0]                  \n",
      "__________________________________________________________________________________________________\n",
      "max_pooling2d_2 (MaxPooling2D)  (None, 32, 32, 64)   0           conv2d_5[0][0]                   \n",
      "__________________________________________________________________________________________________\n",
      "conv2d_6 (Conv2D)               (None, 32, 32, 128)  73856       max_pooling2d_2[0][0]            \n",
      "__________________________________________________________________________________________________\n",
      "dropout_3 (Dropout)             (None, 32, 32, 128)  0           conv2d_6[0][0]                   \n",
      "__________________________________________________________________________________________________\n",
      "conv2d_7 (Conv2D)               (None, 32, 32, 128)  147584      dropout_3[0][0]                  \n",
      "__________________________________________________________________________________________________\n",
      "max_pooling2d_3 (MaxPooling2D)  (None, 16, 16, 128)  0           conv2d_7[0][0]                   \n",
      "__________________________________________________________________________________________________\n",
      "conv2d_8 (Conv2D)               (None, 16, 16, 256)  295168      max_pooling2d_3[0][0]            \n",
      "__________________________________________________________________________________________________\n",
      "dropout_4 (Dropout)             (None, 16, 16, 256)  0           conv2d_8[0][0]                   \n",
      "__________________________________________________________________________________________________\n",
      "conv2d_9 (Conv2D)               (None, 16, 16, 256)  590080      dropout_4[0][0]                  \n",
      "__________________________________________________________________________________________________\n",
      "conv2d_transpose (Conv2DTranspo (None, 32, 32, 128)  131200      conv2d_9[0][0]                   \n",
      "__________________________________________________________________________________________________\n",
      "concatenate (Concatenate)       (None, 32, 32, 256)  0           conv2d_transpose[0][0]           \n",
      "                                                                 conv2d_7[0][0]                   \n",
      "__________________________________________________________________________________________________\n",
      "conv2d_10 (Conv2D)              (None, 32, 32, 128)  295040      concatenate[0][0]                \n",
      "__________________________________________________________________________________________________\n",
      "dropout_5 (Dropout)             (None, 32, 32, 128)  0           conv2d_10[0][0]                  \n",
      "__________________________________________________________________________________________________\n",
      "conv2d_11 (Conv2D)              (None, 32, 32, 128)  147584      dropout_5[0][0]                  \n",
      "__________________________________________________________________________________________________\n",
      "conv2d_transpose_1 (Conv2DTrans (None, 64, 64, 64)   32832       conv2d_11[0][0]                  \n",
      "__________________________________________________________________________________________________\n",
      "concatenate_1 (Concatenate)     (None, 64, 64, 128)  0           conv2d_transpose_1[0][0]         \n",
      "                                                                 conv2d_5[0][0]                   \n",
      "__________________________________________________________________________________________________\n",
      "conv2d_12 (Conv2D)              (None, 64, 64, 64)   73792       concatenate_1[0][0]              \n",
      "__________________________________________________________________________________________________\n",
      "dropout_6 (Dropout)             (None, 64, 64, 64)   0           conv2d_12[0][0]                  \n",
      "__________________________________________________________________________________________________\n",
      "conv2d_13 (Conv2D)              (None, 64, 64, 64)   36928       dropout_6[0][0]                  \n",
      "__________________________________________________________________________________________________\n",
      "conv2d_transpose_2 (Conv2DTrans (None, 128, 128, 32) 8224        conv2d_13[0][0]                  \n",
      "__________________________________________________________________________________________________\n",
      "concatenate_2 (Concatenate)     (None, 128, 128, 64) 0           conv2d_transpose_2[0][0]         \n",
      "                                                                 conv2d_3[0][0]                   \n",
      "__________________________________________________________________________________________________\n",
      "conv2d_14 (Conv2D)              (None, 128, 128, 32) 18464       concatenate_2[0][0]              \n",
      "__________________________________________________________________________________________________\n",
      "dropout_7 (Dropout)             (None, 128, 128, 32) 0           conv2d_14[0][0]                  \n",
      "__________________________________________________________________________________________________\n",
      "conv2d_15 (Conv2D)              (None, 128, 128, 32) 9248        dropout_7[0][0]                  \n",
      "__________________________________________________________________________________________________\n",
      "conv2d_transpose_3 (Conv2DTrans (None, 256, 256, 16) 2064        conv2d_15[0][0]                  \n",
      "__________________________________________________________________________________________________\n",
      "concatenate_3 (Concatenate)     (None, 256, 256, 48) 0           conv2d_transpose_3[0][0]         \n",
      "                                                                 conv2d_1[0][0]                   \n",
      "__________________________________________________________________________________________________\n",
      "conv2d_16 (Conv2D)              (None, 256, 256, 16) 6928        concatenate_3[0][0]              \n",
      "__________________________________________________________________________________________________\n",
      "dropout_8 (Dropout)             (None, 256, 256, 16) 0           conv2d_16[0][0]                  \n",
      "__________________________________________________________________________________________________\n",
      "conv2d_17 (Conv2D)              (None, 256, 256, 16) 2320        dropout_8[0][0]                  \n",
      "__________________________________________________________________________________________________\n",
      "conv2d_18 (Conv2D)              (None, 256, 256, 1)  17          conv2d_17[0][0]                  \n",
      "==================================================================================================\n",
      "Total params: 1,950,049\n",
      "Trainable params: 1,950,049\n",
      "Non-trainable params: 0\n",
      "__________________________________________________________________________________________________\n"
     ]
    }
   ],
   "source": [
    "model = unet()\n",
    "model.summary()"
   ]
  },
  {
   "cell_type": "code",
   "execution_count": 14,
   "metadata": {},
   "outputs": [
    {
     "name": "stdout",
     "output_type": "stream",
     "text": [
      "Epoch 1/10\n",
      "1882/1882 [==============================] - 615s 266ms/step - loss: 0.0029 - accuracy: 0.9992 - val_loss: 0.0017 - val_accuracy: 0.9992\n",
      "\n",
      "Epoch 00001: val_accuracy improved from -inf to 0.99920, saving model to ma_unet_checkpoints.hdf5\n",
      "Epoch 2/10\n",
      "1882/1882 [==============================] - 489s 260ms/step - loss: 0.0014 - accuracy: 0.9992 - val_loss: 0.0013 - val_accuracy: 0.9992\n",
      "\n",
      "Epoch 00002: val_accuracy did not improve from 0.99920\n",
      "Epoch 3/10\n",
      "1882/1882 [==============================] - 488s 259ms/step - loss: 0.0012 - accuracy: 0.9992 - val_loss: 0.0011 - val_accuracy: 0.9992\n",
      "\n",
      "Epoch 00003: val_accuracy did not improve from 0.99920\n",
      "Epoch 4/10\n",
      "1882/1882 [==============================] - 487s 259ms/step - loss: 0.0011 - accuracy: 0.9992 - val_loss: 9.3854e-04 - val_accuracy: 0.9992\n",
      "\n",
      "Epoch 00004: val_accuracy did not improve from 0.99920\n",
      "Epoch 5/10\n",
      "1882/1882 [==============================] - 488s 259ms/step - loss: 9.5449e-04 - accuracy: 0.9992 - val_loss: 8.6050e-04 - val_accuracy: 0.9992\n",
      "\n",
      "Epoch 00005: val_accuracy did not improve from 0.99920\n",
      "Epoch 6/10\n",
      "1882/1882 [==============================] - 487s 259ms/step - loss: 9.1073e-04 - accuracy: 0.9992 - val_loss: 8.3217e-04 - val_accuracy: 0.9992\n",
      "\n",
      "Epoch 00006: val_accuracy did not improve from 0.99920\n",
      "Epoch 7/10\n",
      "1882/1882 [==============================] - 487s 259ms/step - loss: 8.8127e-04 - accuracy: 0.9992 - val_loss: 8.7452e-04 - val_accuracy: 0.9992\n",
      "\n",
      "Epoch 00007: val_accuracy did not improve from 0.99920\n",
      "Epoch 8/10\n",
      "1882/1882 [==============================] - 487s 259ms/step - loss: 8.6432e-04 - accuracy: 0.9992 - val_loss: 8.2943e-04 - val_accuracy: 0.9992\n",
      "\n",
      "Epoch 00008: val_accuracy did not improve from 0.99920\n",
      "Epoch 9/10\n",
      "1882/1882 [==============================] - 487s 259ms/step - loss: 8.7019e-04 - accuracy: 0.9992 - val_loss: 7.8459e-04 - val_accuracy: 0.9992\n",
      "\n",
      "Epoch 00009: val_accuracy did not improve from 0.99920\n",
      "Epoch 10/10\n",
      "1882/1882 [==============================] - 487s 259ms/step - loss: 8.3783e-04 - accuracy: 0.9992 - val_loss: 7.8780e-04 - val_accuracy: 0.9992\n",
      "\n",
      "Epoch 00010: val_accuracy did not improve from 0.99920\n",
      "Model Trained\n"
     ]
    }
   ],
   "source": [
    "batch_size = 1\n",
    "callbacks = [\n",
    "        EarlyStopping(patience=10, monitor='val_loss', mode = 'min'),\n",
    "        TensorBoard(log_dir='logs')]\n",
    "\n",
    "reduce_lr = ReduceLROnPlateau(monitor='val_loss', factor=0.2,\n",
    "                              patience=5, min_lr=0.0001)\n",
    "\n",
    "model_checkpoint = ModelCheckpoint('ma_unet_checkpoints.hdf5',\n",
    "                                    monitor = 'val_accuracy',\n",
    "                                    verbose = 1,\n",
    "                                    save_best_only= True,\n",
    "                                    mode= 'max')\n",
    "\n",
    "\n",
    "history = model.fit(image_train,\n",
    "                        mask_train,\n",
    "                        batch_size= batch_size,\n",
    "                        steps_per_epoch= np.ceil(len(image_train)//batch_size),\n",
    "                        epochs = 10, \n",
    "                        validation_steps= np.ceil(len(image_test)//batch_size),     \n",
    "                        validation_data = (image_test, mask_test),\n",
    "                        callbacks=(reduce_lr,model_checkpoint)\n",
    "                             )\n",
    "print('Model Trained')\n"
   ]
  },
  {
   "cell_type": "code",
   "execution_count": 15,
   "metadata": {},
   "outputs": [],
   "source": [
    "model.save('unet_ma_seg.h5')"
   ]
  },
  {
   "cell_type": "code",
   "execution_count": 16,
   "metadata": {},
   "outputs": [
    {
     "data": {
      "image/png": "[encoded data removed]",
      "text/plain": [
       "<Figure size 432x288 with 1 Axes>"
      ]
     },
     "metadata": {
      "needs_background": "light"
     },
     "output_type": "display_data"
    },
    {
     "data": {
      "image/png": "[encoded data removed]",
      "text/plain": [
       "<Figure size 432x288 with 1 Axes>"
      ]
     },
     "metadata": {
      "needs_background": "light"
     },
     "output_type": "display_data"
    }
   ],
   "source": [
    "loss = history.history['loss']\n",
    "val_loss = history.history['val_loss']\n",
    "epochs = range(1, len(loss) + 1)\n",
    "plt.plot(epochs, loss, 'y', label='Training loss')\n",
    "plt.plot(epochs, val_loss, 'r', label='Validation loss')\n",
    "plt.title('Training and validation loss')\n",
    "plt.xlabel('Epochs')\n",
    "plt.ylabel('Loss')\n",
    "plt.legend()\n",
    "plt.show()\n",
    "\n",
    "acc = history.history['accuracy']\n",
    "val_acc = history.history['val_accuracy']\n",
    "plt.plot(epochs, acc, 'y', label='Training acc')\n",
    "plt.plot(epochs, val_acc, 'r', label='Validation acc')\n",
    "plt.title('Training and validation accuracy')\n",
    "plt.xlabel('Epochs')\n",
    "plt.ylabel('Accuracy')\n",
    "plt.legend()\n",
    "plt.show()\n"
   ]
  },
  {
   "cell_type": "code",
   "execution_count": 14,
   "metadata": {},
   "outputs": [
    {
     "name": "stdout",
     "output_type": "stream",
     "text": [
      "Model retraining on IDRiD data...\n",
      "\n",
      "Epoch 1/10\n",
      "345/345 [==============================] - 177s 236ms/step - loss: 0.0059 - accuracy: 0.9950 - val_loss: 0.0057 - val_accuracy: 0.9948\n",
      "\n",
      "Epoch 00001: val_accuracy improved from -inf to 0.99484, saving model to ma_unet_checkpoints.hdf5\n",
      "Epoch 2/10\n",
      "345/345 [==============================] - 80s 233ms/step - loss: 0.0055 - accuracy: 0.9950 - val_loss: 0.0055 - val_accuracy: 0.9948\n",
      "\n",
      "Epoch 00002: val_accuracy did not improve from 0.99484\n",
      "Epoch 3/10\n",
      "345/345 [==============================] - 80s 233ms/step - loss: 0.0055 - accuracy: 0.9950 - val_loss: 0.0055 - val_accuracy: 0.9948\n",
      "\n",
      "Epoch 00003: val_accuracy did not improve from 0.99484\n",
      "Epoch 4/10\n",
      "345/345 [==============================] - 80s 233ms/step - loss: 0.0054 - accuracy: 0.9950 - val_loss: 0.0056 - val_accuracy: 0.9948\n",
      "\n",
      "Epoch 00004: val_accuracy did not improve from 0.99484\n",
      "Epoch 5/10\n",
      "345/345 [==============================] - 80s 232ms/step - loss: 0.0053 - accuracy: 0.9950 - val_loss: 0.0054 - val_accuracy: 0.9948\n",
      "\n",
      "Epoch 00005: val_accuracy did not improve from 0.99484\n",
      "Epoch 6/10\n",
      "345/345 [==============================] - 80s 232ms/step - loss: 0.0053 - accuracy: 0.9950 - val_loss: 0.0057 - val_accuracy: 0.9948\n",
      "\n",
      "Epoch 00006: val_accuracy did not improve from 0.99484\n",
      "Epoch 7/10\n",
      "345/345 [==============================] - 80s 232ms/step - loss: 0.0053 - accuracy: 0.9950 - val_loss: 0.0054 - val_accuracy: 0.9948\n",
      "\n",
      "Epoch 00007: val_accuracy did not improve from 0.99484\n",
      "Epoch 8/10\n",
      "345/345 [==============================] - 80s 232ms/step - loss: 0.0053 - accuracy: 0.9950 - val_loss: 0.0055 - val_accuracy: 0.9948\n",
      "\n",
      "Epoch 00008: val_accuracy did not improve from 0.99484\n",
      "Epoch 9/10\n",
      "345/345 [==============================] - 80s 232ms/step - loss: 0.0052 - accuracy: 0.9950 - val_loss: 0.0054 - val_accuracy: 0.9948\n",
      "\n",
      "Epoch 00009: val_accuracy did not improve from 0.99484\n",
      "Epoch 10/10\n",
      "345/345 [==============================] - 80s 232ms/step - loss: 0.0052 - accuracy: 0.9950 - val_loss: 0.0053 - val_accuracy: 0.9948\n",
      "\n",
      "Epoch 00010: val_accuracy did not improve from 0.99484\n",
      "\n",
      " Model Retrained\n"
     ]
    }
   ],
   "source": [
    "model = load_model('unet_ma_seg.h5')\n",
    "batch_size = 1\n",
    "callbacks = [\n",
    "        EarlyStopping(patience=10, monitor='val_loss', mode = 'min'),\n",
    "        TensorBoard(log_dir='logs')]\n",
    "\n",
    "reduce_lr = ReduceLROnPlateau(monitor='val_loss', factor=0.2,\n",
    "                              patience=5, min_lr=0.0001)\n",
    "\n",
    "model_checkpoint = ModelCheckpoint('ma_unet_checkpoints.hdf5',\n",
    "                                    monitor = 'val_accuracy',\n",
    "                                    verbose = 1,\n",
    "                                    save_best_only= True,\n",
    "                                    mode= 'max')\n",
    "\n",
    "print('Model retraining on IDRiD data...\\n')\n",
    "history = model.fit(image_train,\n",
    "                        mask_train,\n",
    "                        batch_size= batch_size,\n",
    "                        steps_per_epoch= np.ceil(len(image_train)//batch_size),\n",
    "                        epochs = 10, \n",
    "                        validation_steps= np.ceil(len(image_test)//batch_size),     \n",
    "                        validation_data = (image_test, mask_test),\n",
    "                        callbacks=(reduce_lr,model_checkpoint)\n",
    "                             )\n",
    "print('\\n Model Retrained')\n"
   ]
  },
  {
   "cell_type": "code",
   "execution_count": 15,
   "metadata": {},
   "outputs": [],
   "source": [
    "model.save('unet_ma_seg_retrain.h5')"
   ]
  },
  {
   "cell_type": "code",
   "execution_count": 16,
   "metadata": {},
   "outputs": [
    {
     "data": {
      "image/png": "[encoded data removed]",
      "text/plain": [
       "<Figure size 432x288 with 1 Axes>"
      ]
     },
     "metadata": {
      "needs_background": "light"
     },
     "output_type": "display_data"
    },
    {
     "data": {
      "image/png": "[encoded data removed]",
      "text/plain": [
       "<Figure size 432x288 with 1 Axes>"
      ]
     },
     "metadata": {
      "needs_background": "light"
     },
     "output_type": "display_data"
    }
   ],
   "source": [
    "loss = history.history['loss']\n",
    "val_loss = history.history['val_loss']\n",
    "epochs = range(1, len(loss) + 1)\n",
    "plt.plot(epochs, loss, 'y', label='Training loss')\n",
    "plt.plot(epochs, val_loss, 'r', label='Validation loss')\n",
    "plt.title('Training and validation loss')\n",
    "plt.xlabel('Epochs')\n",
    "plt.ylabel('Loss')\n",
    "plt.legend()\n",
    "plt.show()\n",
    "\n",
    "acc = history.history['accuracy']\n",
    "val_acc = history.history['val_accuracy']\n",
    "plt.plot(epochs, acc, 'y', label='Training acc')\n",
    "plt.plot(epochs, val_acc, 'r', label='Validation acc')\n",
    "plt.title('Training and validation accuracy')\n",
    "plt.xlabel('Epochs')\n",
    "plt.ylabel('Accuracy')\n",
    "plt.legend()\n",
    "plt.show()\n"
   ]
  },
  {
   "cell_type": "code",
   "execution_count": 18,
   "metadata": {},
   "outputs": [
    {
     "data": {
      "text/plain": [
       "<matplotlib.image.AxesImage at 0x2cd652f3430>"
      ]
     },
     "execution_count": 18,
     "metadata": {},
     "output_type": "execute_result"
    },
    {
     "data": {
      "image/png": "[encoded data removed]",
      "text/plain": [
       "<Figure size 1152x576 with 2 Axes>"
      ]
     },
     "metadata": {
      "needs_background": "light"
     },
     "output_type": "display_data"
    }
   ],
   "source": [
    "test_img_number = random.randint(0, len(image_test))\n",
    "test_img = image_test[test_img_number]\n",
    "ground_truth=mask_test[test_img_number]\n",
    "test_img_norm=test_img[:,:,0][:,:,None]\n",
    "test_img_input=np.expand_dims(test_img_norm, 0)\n",
    "prediction = (model.predict(test_img_input)[0,:,:,0] > 0.2).astype(np.uint8)\n",
    "\n",
    "plt.figure(figsize=(16, 8))\n",
    "plt.subplot(231)\n",
    "plt.title('Testing Label')\n",
    "plt.imshow(ground_truth[:,:,0], cmap='gray')\n",
    "plt.subplot(232)\n",
    "plt.title('Prediction on test image')\n",
    "plt.imshow(prediction, cmap='gray')"
   ]
  },
  {
   "cell_type": "code",
   "execution_count": null,
   "metadata": {},
   "outputs": [],
   "source": []
  }
 ],
 "metadata": {
  "kernelspec": {
   "display_name": "Python 3.8.5 ('tensorflow')",
   "language": "python",
   "name": "python3"
  },
  "language_info": {
   "codemirror_mode": {
    "name": "ipython",
    "version": 3
   },
   "file_extension": ".py",
   "mimetype": "text/x-python",
   "name": "python",
   "nbconvert_exporter": "python",
   "pygments_lexer": "ipython3",
   "version": "3.8.5"
  },
  "orig_nbformat": 4,
  "vscode": {
   "interpreter": {
    "hash": "df00881721945a5ca1b003f9fe2c4de8a3c40aff31a9871652d192d6e08fe61e"
   }
  }
 },
 "nbformat": 4,
 "nbformat_minor": 2
}

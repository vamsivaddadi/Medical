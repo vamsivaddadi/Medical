{
  "cells": [
    {
      "cell_type": "code",
      "execution_count": null,
      "metadata": {
        "id": "hwwBxg32l0ZS"
      },
      "outputs": [],
      "source": [
        "import numpy as np\n",
        "import os\n",
        "from keras.models import load_model\n",
        "import tensorflow as tf\n",
        "from tensorflow import keras\n",
        "from keras.preprocessing.image import ImageDataGenerator\n",
        "from keras.applications.inception_v3 import InceptionV3\n",
        "from keras.models import Model\n",
        "from keras.layers import Flatten, Dense, Dropout\n",
        "from tensorflow.keras import optimizers\n",
        "from keras.callbacks import ModelCheckpoint, EarlyStopping, TensorBoard\n",
        "from sklearn.metrics import confusion_matrix, accuracy_score, classification_report\n",
        "\n",
        "\n"
      ]
    },
    {
      "cell_type": "code",
      "execution_count": null,
      "metadata": {
        "colab": {
          "base_uri": "https://localhost:8080/"
        },
        "id": "nVs5mB-7mN40",
        "outputId": "6c80c6f5-330c-4cfc-e865-6190b697c70b"
      },
      "outputs": [
        {
          "name": "stdout",
          "output_type": "stream",
          "text": [
            "Mounted at /content/drive\n"
          ]
        }
      ],
      "source": [
        "from google.colab import drive\n",
        "drive.mount('/content/drive')"
      ]
    },
    {
      "cell_type": "code",
      "execution_count": null,
      "metadata": {
        "colab": {
          "base_uri": "https://localhost:8080/"
        },
        "id": "A0X4fUKAmN0I",
        "outputId": "7c218e65-6050-4ebd-e1ce-d60e334211ad"
      },
      "outputs": [
        {
          "name": "stdout",
          "output_type": "stream",
          "text": [
            "['Getting started.pdf', 'WhatsApp Chat - ☁️☁️☁️☁️☁️.zip', 'cxr folder 700', 'tb_inc_mon.h5', 'tb_inc_700.h5', 'tuberculosis-chest-x-ray-inceptionv3.ipynb', 'Colab Notebooks']\n",
            "['tb', 'normal']\n"
          ]
        }
      ],
      "source": [
        "base_dir = '/content/drive/MyDrive/'\n",
        "dataset_dir= '/content/drive/MyDrive/cxr folder 700/'\n",
        "print(os.listdir(base_dir))\n",
        "print(os.listdir(dataset_dir))"
      ]
    },
    {
      "cell_type": "code",
      "execution_count": null,
      "metadata": {
        "colab": {
          "base_uri": "https://localhost:8080/"
        },
        "id": "J0nKbubWmNy8",
        "outputId": "07b88587-bf7f-4775-d35a-ea453729b097"
      },
      "outputs": [
        {
          "name": "stdout",
          "output_type": "stream",
          "text": [
            "tuberculosis images :\n",
            " ['Tuberculosis-133.png', 'Tuberculosis-1.png', 'Tuberculosis-104.png', 'Tuberculosis-159.png', 'Tuberculosis-115.png']\n",
            "\n",
            "normal images :\n",
            " ['Normal-101.png', 'Normal-102.png', 'Normal-1.png', 'Normal-103.png', 'Normal-100.png']\n"
          ]
        }
      ],
      "source": [
        "tuberculosis_data= dataset_dir + 'tb/'\n",
        "print(\"tuberculosis images :\\n\" ,os.listdir(tuberculosis_data)[:5])\n",
        "\n",
        "normal_data= dataset_dir + 'normal/'\n",
        "print(\"\\nnormal images :\\n\" ,os.listdir(normal_data)[:5])"
      ]
    },
    {
      "cell_type": "code",
      "execution_count": null,
      "metadata": {
        "colab": {
          "base_uri": "https://localhost:8080/"
        },
        "id": "J54roGuYmYnJ",
        "outputId": "06bffd3c-10f3-4608-f02a-6b180007769b"
      },
      "outputs": [
        {
          "name": "stdout",
          "output_type": "stream",
          "text": [
            "no. of tuberculosis images : 699\n",
            "\n",
            "no. of normal images : 699\n"
          ]
        }
      ],
      "source": [
        "print(\"no. of tuberculosis images :\" ,len(os.listdir(tuberculosis_data)))\n",
        "print(\"\\nno. of normal images :\" ,len(os.listdir(normal_data)))"
      ]
    },
    {
      "cell_type": "code",
      "execution_count": null,
      "metadata": {
        "id": "PPgOhXN6mYmO"
      },
      "outputs": [],
      "source": [
        "print(\"no. of tuberculosis images :\" ,len(os.listdir(tuberculosis_data)))\n",
        "print(\"\\nno. of normal images :\" ,len(os.listdir(normal_data)))"
      ]
    },
    {
      "cell_type": "code",
      "execution_count": null,
      "metadata": {
        "colab": {
          "base_uri": "https://localhost:8080/"
        },
        "id": "lAZ1S0KMmYhz",
        "outputId": "38a91054-d6d8-4310-8930-7c79b3c2465c"
      },
      "outputs": [
        {
          "name": "stdout",
          "output_type": "stream",
          "text": [
            "training data :\n",
            "Found 1120 images belonging to 2 classes.\n",
            "\n",
            "validation data :\n",
            "Found 278 images belonging to 2 classes.\n"
          ]
        }
      ],
      "source": [
        "# generating training data\n",
        "print(\"training data :\")\n",
        "train_datagen= ImageDataGenerator(rescale=1/255, zoom_range=0.3, rotation_range=50, width_shift_range= 0.2, height_shift_range=0.2, shear_range=0.2, \n",
        "                                   horizontal_flip=True, fill_mode='nearest', validation_split = 0.2)\n",
        "\n",
        "train_data = train_datagen.flow_from_directory(dataset_dir, \n",
        "                                              target_size= (256, 256),\n",
        "                                              class_mode= \"binary\",\n",
        "                                              batch_size=32,\n",
        "                                              subset= \"training\"\n",
        "                                              )\n",
        "\n",
        "# genarating validation data\n",
        "print(\"\\nvalidation data :\")\n",
        "val_datagen= ImageDataGenerator(rescale= 1/255)\n",
        "\n",
        "val_data= train_datagen.flow_from_directory(dataset_dir, \n",
        "                                              target_size= (256, 256),\n",
        "                                              class_mode= \"binary\",\n",
        "                                              batch_size=32,\n",
        "                                              shuffle= False,\n",
        "                                              subset= \"validation\"\n",
        "                                              )"
      ]
    },
    {
      "cell_type": "code",
      "execution_count": null,
      "metadata": {},
      "outputs": [],
      "source": [
        "#inception_model= InceptionV3(input_shape= (256, 256,3), include_top= False, weights='imagenet')\n",
        "\n",
        "#last_output= inception_model.layers[-1].output\n",
        "\n",
        "\n",
        "#last_output= Flatten()(last_output)\n",
        "\n",
        "\n",
        "#pretrained_model= Model(inception_model.input, last_output)    "
      ]
    },
    {
      "cell_type": "code",
      "execution_count": null,
      "metadata": {},
      "outputs": [],
      "source": [
        "# layer 1\n",
        "#x= Dense(units=512, activation=\"relu\")(last_output)\n",
        "#x=Dropout(0.1)(x)\n",
        "\n",
        "# layer 2\n",
        "#x= Dense(units=128, activation=\"relu\")(x)\n",
        "#x=Dropout(0.1)(x)\n",
        "\n",
        "# output layer\n",
        "#x= Dense(units=1, activation=\"sigmoid\")(x)\n",
        "\n",
        "# final model\n",
        "#model= Model(pretrained_model.input, x)\n",
        "\n",
        "#model.summary()"
      ]
    },
    {
      "cell_type": "code",
      "execution_count": null,
      "metadata": {
        "colab": {
          "base_uri": "https://localhost:8080/"
        },
        "id": "rFFCeSuCmYgq",
        "outputId": "21b91d17-280b-4cf1-c868-d4715bd46fa9"
      },
      "outputs": [
        {
          "name": "stdout",
          "output_type": "stream",
          "text": [
            "WARNING:tensorflow:Error in loading the saved optimizer state. As a result, your model is starting with a freshly initialized optimizer.\n",
            "Epoch 1/10\n",
            "35/35 [==============================] - 220s 6s/step - loss: 0.3753 - accuracy: 0.8446 - val_loss: 0.4628 - val_accuracy: 0.7969\n",
            "Epoch 2/10\n",
            "35/35 [==============================] - 41s 1s/step - loss: 0.3037 - accuracy: 0.8652 - val_loss: 0.3634 - val_accuracy: 0.8359\n",
            "Epoch 3/10\n",
            "35/35 [==============================] - 41s 1s/step - loss: 0.2610 - accuracy: 0.8804 - val_loss: 0.3520 - val_accuracy: 0.8477\n",
            "Epoch 4/10\n",
            "35/35 [==============================] - 38s 1s/step - loss: 0.2467 - accuracy: 0.8991 - val_loss: 0.2750 - val_accuracy: 0.8984\n",
            "Epoch 5/10\n",
            "35/35 [==============================] - 38s 1s/step - loss: 0.2215 - accuracy: 0.9009 - val_loss: 0.5417 - val_accuracy: 0.7812\n",
            "Epoch 6/10\n",
            "35/35 [==============================] - 38s 1s/step - loss: 0.2223 - accuracy: 0.9098 - val_loss: 0.4099 - val_accuracy: 0.8008\n",
            "Epoch 7/10\n",
            "35/35 [==============================] - 41s 1s/step - loss: 0.2197 - accuracy: 0.9125 - val_loss: 0.2679 - val_accuracy: 0.8672\n",
            "Epoch 8/10\n",
            "35/35 [==============================] - 38s 1s/step - loss: 0.1822 - accuracy: 0.9312 - val_loss: 0.2726 - val_accuracy: 0.8750\n",
            "Epoch 9/10\n",
            "35/35 [==============================] - 41s 1s/step - loss: 0.1675 - accuracy: 0.9277 - val_loss: 0.5243 - val_accuracy: 0.7812\n",
            "Epoch 10/10\n",
            "35/35 [==============================] - 53s 2s/step - loss: 0.1491 - accuracy: 0.9348 - val_loss: 0.2048 - val_accuracy: 0.9141\n"
          ]
        }
      ],
      "source": [
        "model = load_model(base_dir + 'tb_inc_mon.h5')\n",
        "\n",
        "model.compile(loss= \"binary_crossentropy\", optimizer=optimizers.RMSprop(learning_rate=1e-4), metrics=[\"accuracy\"])\n",
        "\n",
        "callbacks = [\n",
        "        EarlyStopping(patience=5, monitor='val_loss',mode = \"min\"),\n",
        "        TensorBoard(log_dir='logs')]\n",
        "\n",
        "model_checkpoint = ModelCheckpoint('tb_checkpoints.hdf5',\n",
        "                                    monitor = 'val_accuracy',\n",
        "                                    verbose = 1,\n",
        "                                    save_best_only= True,\n",
        "                                    mode= 'max')\n",
        "\n",
        "\n",
        "history= model.fit(train_data,\n",
        "                    steps_per_epoch= train_data.samples//train_data.batch_size,\n",
        "                    validation_data= val_data,\n",
        "                    validation_steps= val_data.samples//val_data.batch_size,\n",
        "                    epochs= 10,\n",
        "                    verbose=1,\n",
        "                    callbacks = callbacks \n",
        "                   )"
      ]
    },
    {
      "cell_type": "code",
      "execution_count": null,
      "metadata": {
        "colab": {
          "base_uri": "https://localhost:8080/",
          "height": 573
        },
        "id": "hRL-PBFTmi0R",
        "outputId": "319d86c8-b9ce-4cd0-a30f-5f8a5682c3bb"
      },
      "outputs": [
        {
          "data": {
            "image/png": "[encoded data removed]",
            "text/plain": [
              "<Figure size 432x288 with 1 Axes>"
            ]
          },
          "metadata": {
            "needs_background": "light"
          },
          "output_type": "display_data"
        },
        {
          "data": {
            "image/png": "[encoded data removed]",
            "text/plain": [
              "<Figure size 432x288 with 1 Axes>"
            ]
          },
          "metadata": {
            "needs_background": "light"
          },
          "output_type": "display_data"
        }
      ],
      "source": [
        "import matplotlib.pyplot as plt\n",
        "epochs= range(1, len(history.history[\"accuracy\"])+1)\n",
        "\n",
        "plt.plot(epochs, history.history[\"accuracy\"], color=\"purple\")\n",
        "plt.plot(epochs, history.history[\"val_accuracy\"], color=\"pink\")\n",
        "plt.xlabel(\"epochs\")\n",
        "plt.ylabel(\"accuracy\")\n",
        "plt.title(\"Accuracy plot\")\n",
        "plt.legend([\"train_acc\", \"val_acc\"])\n",
        "plt.show()\n",
        "\n",
        "plt.plot(epochs, history.history[\"loss\"], color=\"purple\")\n",
        "plt.plot(epochs, history.history[\"val_loss\"], color=\"pink\")\n",
        "plt.xlabel(\"epochs\")\n",
        "plt.ylabel(\"loss\")\n",
        "plt.title(\"Loss plot\")\n",
        "plt.legend([\"train_loss\", \"val_loss\"])\n",
        "plt.show()"
      ]
    },
    {
      "cell_type": "code",
      "execution_count": null,
      "metadata": {
        "colab": {
          "base_uri": "https://localhost:8080/"
        },
        "id": "B5Dc2ZZAnYw7",
        "outputId": "55d7c1fe-5f1c-46d6-ef0a-848d735fdd46"
      },
      "outputs": [
        {
          "name": "stdout",
          "output_type": "stream",
          "text": [
            "9/9 [==============================] - 11s 1s/step\n"
          ]
        }
      ],
      "source": [
        "prediction= model.predict(val_data, steps=np.ceil(val_data.samples/val_data.batch_size), verbose=1)\n",
        "prediction= (prediction > 0.5)\n",
        "#prediction"
      ]
    },
    {
      "cell_type": "code",
      "execution_count": null,
      "metadata": {
        "colab": {
          "base_uri": "https://localhost:8080/"
        },
        "id": "KlqeQkTTnYru",
        "outputId": "5dd17db5-e71a-464c-c17d-a02866a1c994"
      },
      "outputs": [
        {
          "name": "stdout",
          "output_type": "stream",
          "text": [
            "9/9 [==============================] - 7s 764ms/step - loss: 0.2135 - accuracy: 0.9281\n"
          ]
        },
        {
          "data": {
            "text/plain": [
              "[0.21350398659706116, 0.9280575513839722]"
            ]
          },
          "execution_count": 19,
          "metadata": {},
          "output_type": "execute_result"
        }
      ],
      "source": [
        "model.evaluate(val_data,verbose = 1)"
      ]
    },
    {
      "cell_type": "code",
      "execution_count": null,
      "metadata": {
        "colab": {
          "base_uri": "https://localhost:8080/"
        },
        "id": "-pIbJuY-nYq1",
        "outputId": "740f5fb8-2e88-462d-8075-603ef404fa83"
      },
      "outputs": [
        {
          "name": "stdout",
          "output_type": "stream",
          "text": [
            "0.9316546762589928\n",
            "              precision    recall  f1-score   support\n",
            "\n",
            "           0       0.94      0.92      0.93       139\n",
            "           1       0.92      0.94      0.93       139\n",
            "\n",
            "    accuracy                           0.93       278\n",
            "   macro avg       0.93      0.93      0.93       278\n",
            "weighted avg       0.93      0.93      0.93       278\n",
            "\n"
          ]
        }
      ],
      "source": [
        "cm= confusion_matrix(val_data.classes, prediction)\n",
        "#plot_confusion_matrix(cm, figsize=(5,5))\n",
        "\n",
        "print(accuracy_score(val_data.classes, prediction))\n",
        "print(classification_report(val_data.classes, prediction))"
      ]
    },
    {
      "cell_type": "code",
      "execution_count": null,
      "metadata": {
        "id": "eeY-5CVJnYlw"
      },
      "outputs": [],
      "source": [
        "model.save(\"tb_inc_mon_retrained.h5\")"
      ]
    },
    {
      "cell_type": "code",
      "execution_count": null,
      "metadata": {
        "id": "3TV496gInYkx"
      },
      "outputs": [],
      "source": []
    },
    {
      "cell_type": "code",
      "execution_count": null,
      "metadata": {
        "id": "fxUz4pXMnYgY"
      },
      "outputs": [],
      "source": []
    },
    {
      "cell_type": "code",
      "execution_count": null,
      "metadata": {
        "id": "k9VlI29xnYfX"
      },
      "outputs": [],
      "source": []
    }
  ],
  "metadata": {
    "colab": {
      "name": "retraining of tb_inc_mon over cxr 700x700.ipynb",
      "provenance": []
    },
    "kernelspec": {
      "display_name": "Python 3",
      "name": "python3"
    },
    "language_info": {
      "name": "python"
    }
  },
  "nbformat": 4,
  "nbformat_minor": 0
}

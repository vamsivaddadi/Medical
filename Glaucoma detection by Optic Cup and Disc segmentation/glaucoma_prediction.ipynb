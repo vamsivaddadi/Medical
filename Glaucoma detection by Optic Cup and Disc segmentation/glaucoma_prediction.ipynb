{
 "cells": [
  {
   "cell_type": "code",
   "execution_count": 1,
   "metadata": {},
   "outputs": [],
   "source": [
    "import os\n",
    "import numpy as np\n",
    "import cv2 as cv\n",
    "from PIL import Image\n",
    "from tensorflow.keras.utils import normalize\n",
    "from keras.models import load_model\n",
    "import matplotlib.pyplot as plt\n",
    "\n",
    "SIZE = 256\n",
    "\n",
    "disc_unet = load_model('D:/Work/Retinopathy/Sample project/glaucoma/using unet/models/retrain_full_noise_t1_ha_disc.h5')\n",
    "cup_unet = load_model('D:/Work/Retinopathy/Sample project/glaucoma/using unet/models/retrain_full_noise_t1_ha_cup.h5')\n"
   ]
  },
  {
   "cell_type": "code",
   "execution_count": 15,
   "metadata": {},
   "outputs": [],
   "source": [
    "def masking(img_array, img_num = 0, img_side_size = SIZE):\n",
    "    \n",
    "    pred = img_array[img_num]\n",
    "    pred[pred>0.5] = 1\n",
    "    pred[pred<0.5] = 0\n",
    "    mask = pred.reshape(img_side_size, img_side_size)\n",
    "    plt.imsave('pred_mask2.png',mask, cmap = 'gray')\n",
    "    mask =cv.imread('pred_mask2.png')\n",
    "    os.remove(\"pred_mask2.png\")\n",
    "\n",
    "    return mask "
   ]
  },
  {
   "cell_type": "code",
   "execution_count": 3,
   "metadata": {},
   "outputs": [],
   "source": [
    "def preprocess(image):\n",
    "    image_dataset = []\n",
    "    image = cv.imread(image,0)\n",
    "    image = Image.fromarray(image)\n",
    "    image = image.resize((SIZE,SIZE))\n",
    "    image_dataset.append(np.array(image))\n",
    "    image_dataset = np.expand_dims(normalize(np.array(image_dataset), axis = 1),3)\n",
    "    return image_dataset"
   ]
  },
  {
   "cell_type": "code",
   "execution_count": 4,
   "metadata": {},
   "outputs": [],
   "source": [
    "def segmentation(model,image):\n",
    "    image = preprocess(image)\n",
    "    prediction = model.predict(image)\n",
    "    prediction = masking(prediction)\n",
    "    return prediction"
   ]
  },
  {
   "cell_type": "code",
   "execution_count": 5,
   "metadata": {},
   "outputs": [],
   "source": [
    "def contours(image):\n",
    "    #_,th = cv.threshold(image, 200, 255, cv.THRESH_BINARY)\n",
    "    edges = cv.Canny(image, 30, 200)\n",
    "    contours,_ = cv.findContours(edges, cv.RETR_EXTERNAL, cv.CHAIN_APPROX_SIMPLE)\n",
    "    largest = max(contours, key= cv.contourArea)\n",
    "    \n",
    "    return largest"
   ]
  },
  {
   "cell_type": "code",
   "execution_count": 6,
   "metadata": {},
   "outputs": [],
   "source": [
    "def diameter(image):\n",
    "    image = contours(image)\n",
    "    ellipse = cv.fitEllipse(image)\n",
    "    (xc, yc),(d1, d2), angle = ellipse \n",
    "    diameter = int(max(d1,d2))\n",
    "    return diameter\n",
    "    "
   ]
  },
  {
   "cell_type": "code",
   "execution_count": 12,
   "metadata": {},
   "outputs": [],
   "source": [
    "def glaucoma(path):\n",
    "    \n",
    "    disc = segmentation(disc_unet,path)\n",
    "    cup = segmentation(cup_unet,path)\n",
    "\n",
    "    cup_diameter = diameter(cup)\n",
    "    disc_diameter = diameter(disc)    \n",
    "\n",
    "    \n",
    "\n",
    "\n",
    "    cdr = cup_diameter/disc_diameter\n",
    "    print(cdr) \n",
    "\n",
    "    if cdr >= 0.8:\n",
    "        diagnosis = 'Severe'\n",
    "        print('Risk of Glaucoma is ',diagnosis)\n",
    "\n",
    "    elif cdr >=0.5 and cdr <0.8:\n",
    "                        \n",
    "        diagnosis = 'Moderate'\n",
    "        print('Risk of Glaucoma is ',diagnosis)\n",
    "        \n",
    "                    \n",
    "    elif cdr >0.3 and cdr <0.5:\n",
    "        diagnosis = 'Mild'\n",
    "        print('Risk of Glaucoma is ',diagnosis)\n",
    "\n",
    "    else:\n",
    "        diagnosis = 'None'\n",
    "        print('Risk of Glaucoma is ',diagnosis)\n",
    "\n",
    "    "
   ]
  },
  {
   "cell_type": "code",
   "execution_count": 21,
   "metadata": {},
   "outputs": [
    {
     "name": "stdout",
     "output_type": "stream",
     "text": [
      "0.5652173913043478\n",
      "Risk of Glaucoma is  Moderate\n"
     ]
    }
   ],
   "source": [
    "path = 'D:/Work/Retinopathy/sample project/glaucoma/using unet/test/left_g-1-L.png'\n",
    "#path = 'test/01_g.jpg'\n",
    "glaucoma(path)"
   ]
  },
  {
   "cell_type": "code",
   "execution_count": 14,
   "metadata": {},
   "outputs": [],
   "source": [
    "#disc = segmentation(disc_unet,path)\n",
    "cup = segmentation(cup_unet,path)"
   ]
  },
  {
   "cell_type": "code",
   "execution_count": null,
   "metadata": {},
   "outputs": [],
   "source": []
  }
 ],
 "metadata": {
  "interpreter": {
   "hash": "fd5a7c6f3e7607a2826e319189819064386b6b25f7120970a43ffc20286d0f5d"
  },
  "kernelspec": {
   "display_name": "Python 3.8.5 64-bit ('tensorflow': conda)",
   "language": "python",
   "name": "python3"
  },
  "language_info": {
   "codemirror_mode": {
    "name": "ipython",
    "version": 3
   },
   "file_extension": ".py",
   "mimetype": "text/x-python",
   "name": "python",
   "nbconvert_exporter": "python",
   "pygments_lexer": "ipython3",
   "version": "3.8.5"
  },
  "orig_nbformat": 4
 },
 "nbformat": 4,
 "nbformat_minor": 2
}
